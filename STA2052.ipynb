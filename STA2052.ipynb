{
  "nbformat": 4,
  "nbformat_minor": 0,
  "metadata": {
    "colab": {
      "name": "STA2052.ipynb",
      "provenance": [],
      "collapsed_sections": []
    },
    "kernelspec": {
      "name": "python3",
      "display_name": "Python 3"
    },
    "language_info": {
      "name": "python"
    }
  },
  "cells": [
    {
      "cell_type": "code",
      "metadata": {
        "id": "14Nca6i0g0pD",
        "colab": {
          "resources": {
            "http://localhost:8080/nbextensions/google.colab/files.js": {
              "data": "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",
              "ok": true,
              "headers": [
                [
                  "content-type",
                  "application/javascript"
                ]
              ],
              "status": 200,
              "status_text": ""
            }
          },
          "base_uri": "https://localhost:8080/",
          "height": 56
        },
        "outputId": "858e4b7e-49bc-4915-c5ef-20d5fc0e9512"
      },
      "source": [
        "import numpy as np\n",
        "import pandas as pd\n",
        "import matplotlib.pyplot as plt\n",
        "import seaborn as sns \n",
        "\n",
        "from scipy.stats import boxcox\n",
        "from scipy.special import inv_boxcox\n",
        "\n",
        "from sklearn.linear_model import LinearRegression \n",
        "from sklearn.preprocessing import PolynomialFeatures\n",
        "from sklearn.metrics import mean_squared_error as mse\n",
        "from sklearn.neighbors import NearestNeighbors as KNN\n",
        "\n",
        "import statsmodels.api as sm\n",
        "import statsmodels.formula.api as smf\n",
        "from statsmodels.tools.sm_exceptions import ConvergenceWarning\n",
        "from statsmodels.regression.mixed_linear_model import MixedLM as LMM\n",
        "\n",
        "from datetime import time\n",
        "import os\n",
        "import urllib\n",
        "import shutil\n",
        "\n",
        "#from google.colab import data_table\n",
        "#data_table.enable_dataframe_formatter()\n",
        "\n",
        "#from google.colab import files\n",
        "# Load in rideshare_kaggle.csv and neighborhoods.csv here\n",
        "# files.upload()\n",
        "\n"
      ],
      "execution_count": 2,
      "outputs": [
        {
          "output_type": "display_data",
          "data": {
            "text/html": [
              "\n",
              "     <input type=\"file\" id=\"files-40fa75b9-9f24-4f97-8ae5-25de07c4d211\" name=\"files[]\" multiple disabled\n",
              "        style=\"border:none\" />\n",
              "     <output id=\"result-40fa75b9-9f24-4f97-8ae5-25de07c4d211\">\n",
              "      Upload widget is only available when the cell has been executed in the\n",
              "      current browser session. Please rerun this cell to enable.\n",
              "      </output>\n",
              "      <script src=\"/nbextensions/google.colab/files.js\"></script> "
            ],
            "text/plain": [
              "<IPython.core.display.HTML object>"
            ]
          },
          "metadata": {}
        },
        {
          "output_type": "execute_result",
          "data": {
            "text/plain": [
              "{}"
            ]
          },
          "metadata": {},
          "execution_count": 2
        }
      ]
    },
    {
      "cell_type": "code",
      "metadata": {
        "id": "WYoJ34OU4QCp"
      },
      "source": [
        "# Helper Functions\n",
        "\n",
        "# Model Diagnostics\n",
        "def plot_diagnostics(covariates, response, fit_model):\n",
        "    coef = fit_model.params\n",
        "    pred_values = fit_model.predict(covariates)\n",
        "    mod_res = fit_model.resid\n",
        "    \n",
        "    std_res = (mod_res-np.mean(mod_res))/np.std(mod_res)\n",
        "    std_pred = (pred_values-np.mean(pred_values))/np.std(pred_values)\n",
        "    \n",
        "    x = np.linspace(0, 10, num=10000)\n",
        "    y = x*coef[1]+coef[0]\n",
        "    \n",
        "    # plot1 = plt.figure(1)\n",
        "    # plt.plot(x, y, c=\"black\", linewidth=3.0)\n",
        "    # plt.scatter(covariates[:,1],\n",
        "    #             response)\n",
        "    \n",
        "    plot2 = plt.figure(2)\n",
        "    x_2 = np.linspace(np.min(std_pred),\n",
        "                      np.max(std_pred),\n",
        "                      num=10000)\n",
        "    plt.scatter(std_pred,\n",
        "                std_res)\n",
        "    plt.plot(x_2, np.tile(np.mean(std_pred),reps=len(x)),\n",
        "             c=\"black\", linewidth=3.0)\n",
        "    \n",
        "    plot3 = plt.figure(3)\n",
        "    plt.scatter(std_pred,\n",
        "                np.log(np.abs(std_res))) # doesn't really help\n",
        "    \n",
        "    # regress the predicted variables against the residuals\n",
        "    \n",
        "    plot4 = plt.figure(4)\n",
        "    plt.scatter(pred_values,\n",
        "                mod_res)\n",
        "    plt.show()\n",
        "    \n",
        "    plot5 = plt.figure(5)\n",
        "    sm.qqplot(std_res, line=\"45\")\n",
        "    # light left tail; heavy right tail; very right-skew\n",
        "    plt.show()\n",
        "    \n",
        "    plot6 = plt.figure(6)\n",
        "    x_3 = np.linspace(np.min(std_pred),\n",
        "                      np.max(std_pred),\n",
        "                      num=40)\n",
        "    plt.hist(x=std_res, bins=x_3)\n",
        "    plt.show()\n",
        "\n",
        "def plot_coef_vs_demog(coef, neighbourhoods):\n",
        "    coef = coef.tolist()\n",
        "    \n",
        "    names = neighbourhoods[\"neighbourhood\"]\n",
        "    neighbourhoods = neighbourhoods.drop(columns=\"neighbourhood\")\n",
        "    \n",
        "    for idx, var in enumerate(neighbourhoods):\n",
        "        \n",
        "        if idx != neighbourhoods.shape[1]:\n",
        "            \n",
        "            plt.figure(idx+1)\n",
        "            x = coef\n",
        "            \n",
        "            if np.max(neighbourhoods.iloc[:,idx]) > 1000:\n",
        "                y = neighbourhoods.iloc[:,idx]/1000\n",
        "            else:\n",
        "                y = neighbourhoods.iloc[:,idx]\n",
        "            \n",
        "            plt.scatter(x, y)\n",
        "            plt.xlabel(\"coef\")\n",
        "            plt.ylabel(neighbourhoods.columns[idx])\n",
        "            \n",
        "            for j, name in enumerate(names):\n",
        "                plt.annotate(name, (x[j], y[j]))\n",
        "             \n",
        "            plt.show()\n",
        "\n",
        "\n",
        "\n"
      ],
      "execution_count": 3,
      "outputs": []
    },
    {
      "cell_type": "code",
      "metadata": {
        "id": "vb7-Nl6Y3YFs",
        "colab": {
          "base_uri": "https://localhost:8080/",
          "height": 441
        },
        "outputId": "ef7fe0f4-ca84-4597-8c7a-408a7f8cd964"
      },
      "source": [
        "# clean data\n",
        "def clean_data_func():\n",
        "  # We present the clean data function for reproducibility if \n",
        "  # the original dataset is downloaded. However, loading in this dataset\n",
        "  # is very cumbersome.\n",
        "  data = pd.read_csv(\"rideshare_kaggle.csv\")\n",
        "\n",
        "\n",
        "  # Filter out only Uber cab types\n",
        "  clean_data = data.loc[(data[\"cab_type\"]==\"Uber\") & (data[\"name\"] != \"Taxi\")]\n",
        "\n",
        "  # Select only the relevant geographical variables\n",
        "  clean_data = clean_data[[\"id\", \"datetime\", \"source\", \"destination\",\n",
        "                    \"name\", \"price\", \"distance\", \"surge_multiplier\"]]\n",
        "  clean_data = clean_data.rename(columns={\"name\": \"vehicle_type\"})\n",
        "\n",
        "  # adjust for demand\n",
        "  clean_data[\"adj_price\"] = clean_data[\"price\"]/clean_data[\"surge_multiplier\"]\n",
        "\n",
        "  # Parsing datetimes to times of day (morning, afternoong, evening\n",
        "\n",
        "  clean_data[\"time\"] = pd.to_datetime(clean_data[\"datetime\"]).dt.time\n",
        "\n",
        "  # from: https://stackoverflow.com/questions/39109045/numpy-where-with-multiple-conditions\n",
        "  col = \"time\"\n",
        "  time_ = clean_data[\"time\"]\n",
        "\n",
        "  morning_start, morning_end = time(2, 0, 0), time(11, 59, 59)\n",
        "  afternoon_start, afternoon_end = time(12, 0, 0), time(17, 59, 59)\n",
        "  evening_start, evening_end = time(18, 0, 0), time(1, 59, 59)\n",
        "\n",
        "  conditions = [(time_ >= morning_start) & (time_ <= morning_end),\n",
        "                (time_ >= afternoon_start) & (time_ <= afternoon_end),\n",
        "                (time_ >= evening_start) | (time_ <= evening_end)]\n",
        "\n",
        "  choices = ['morning', 'afternoon', 'evening']\n",
        "\n",
        "  clean_data[\"time\"] = np.select(conditions, choices, default=np.nan)\n",
        "\n",
        "  # Set base contrasts for dummy variables\n",
        "  clean_data[\"vehicle_type\"] = np.where(clean_data[\"vehicle_type\"]==\"UberX\",\n",
        "                                        \"Base_UberX\",\n",
        "                                        clean_data[\"vehicle_type\"])\n",
        "\n",
        "  clean_data[\"time\"] = np.where(clean_data[\"time\"]==\"morning\",\n",
        "                                        \"Base_morning\",\n",
        "                                        clean_data[\"time\"])\n",
        "  clean_data[\"id\"] = np.arange(clean_data.shape[0])\n",
        "  clean_data=clean_data.reset_index().drop(columns=[\"index\"])\n",
        "  return clean_data\n",
        "\n",
        "#clean_data = clean_data_func()\n",
        "\n",
        "clean_data = pd.read_csv(\"clean_data.csv\")\n",
        "clean_data"
      ],
      "execution_count": 4,
      "outputs": [
        {
          "output_type": "stream",
          "name": "stdout",
          "text": [
            "Warning: total number of rows (330568) exceeds max_rows (20000). Falling back to pandas display.\n"
          ]
        },
        {
          "output_type": "execute_result",
          "data": {
            "text/html": [
              "<div>\n",
              "<style scoped>\n",
              "    .dataframe tbody tr th:only-of-type {\n",
              "        vertical-align: middle;\n",
              "    }\n",
              "\n",
              "    .dataframe tbody tr th {\n",
              "        vertical-align: top;\n",
              "    }\n",
              "\n",
              "    .dataframe thead th {\n",
              "        text-align: right;\n",
              "    }\n",
              "</style>\n",
              "<table border=\"1\" class=\"dataframe\">\n",
              "  <thead>\n",
              "    <tr style=\"text-align: right;\">\n",
              "      <th></th>\n",
              "      <th>id</th>\n",
              "      <th>datetime</th>\n",
              "      <th>source</th>\n",
              "      <th>destination</th>\n",
              "      <th>vehicle_type</th>\n",
              "      <th>price</th>\n",
              "      <th>distance</th>\n",
              "      <th>surge_multiplier</th>\n",
              "      <th>adj_price</th>\n",
              "      <th>time</th>\n",
              "      <th>count</th>\n",
              "    </tr>\n",
              "  </thead>\n",
              "  <tbody>\n",
              "    <tr>\n",
              "      <th>0</th>\n",
              "      <td>009e9c53-074d-43cf-aef2-0fbc7a47ed3d</td>\n",
              "      <td>2018-11-30 22:13</td>\n",
              "      <td>North End</td>\n",
              "      <td>West End</td>\n",
              "      <td>UberXL</td>\n",
              "      <td>12.0</td>\n",
              "      <td>1.11</td>\n",
              "      <td>1</td>\n",
              "      <td>12.0</td>\n",
              "      <td>evening</td>\n",
              "      <td>1517</td>\n",
              "    </tr>\n",
              "    <tr>\n",
              "      <th>1</th>\n",
              "      <td>23f145da-f0c1-4d1f-a184-496bc003a7db</td>\n",
              "      <td>2018-12-13 10:50</td>\n",
              "      <td>North End</td>\n",
              "      <td>West End</td>\n",
              "      <td>Black</td>\n",
              "      <td>16.0</td>\n",
              "      <td>1.11</td>\n",
              "      <td>1</td>\n",
              "      <td>16.0</td>\n",
              "      <td>Base_morning</td>\n",
              "      <td>1846</td>\n",
              "    </tr>\n",
              "    <tr>\n",
              "      <th>2</th>\n",
              "      <td>357559cb-8c58-4278-a41a-e33b2e0997a3</td>\n",
              "      <td>2018-12-13 19:15</td>\n",
              "      <td>North End</td>\n",
              "      <td>West End</td>\n",
              "      <td>Base_UberX</td>\n",
              "      <td>7.5</td>\n",
              "      <td>1.11</td>\n",
              "      <td>1</td>\n",
              "      <td>7.5</td>\n",
              "      <td>evening</td>\n",
              "      <td>1524</td>\n",
              "    </tr>\n",
              "    <tr>\n",
              "      <th>3</th>\n",
              "      <td>50ef1165-9d23-416c-a65c-18906207b295</td>\n",
              "      <td>2018-12-16 23:55</td>\n",
              "      <td>North End</td>\n",
              "      <td>West End</td>\n",
              "      <td>WAV</td>\n",
              "      <td>7.5</td>\n",
              "      <td>1.11</td>\n",
              "      <td>1</td>\n",
              "      <td>7.5</td>\n",
              "      <td>evening</td>\n",
              "      <td>1552</td>\n",
              "    </tr>\n",
              "    <tr>\n",
              "      <th>4</th>\n",
              "      <td>91c4861c-1780-42b0-bca1-bbd64a422cc3</td>\n",
              "      <td>2018-12-14 0:40</td>\n",
              "      <td>North End</td>\n",
              "      <td>West End</td>\n",
              "      <td>Black SUV</td>\n",
              "      <td>26.0</td>\n",
              "      <td>1.11</td>\n",
              "      <td>1</td>\n",
              "      <td>26.0</td>\n",
              "      <td>evening</td>\n",
              "      <td>1548</td>\n",
              "    </tr>\n",
              "    <tr>\n",
              "      <th>...</th>\n",
              "      <td>...</td>\n",
              "      <td>...</td>\n",
              "      <td>...</td>\n",
              "      <td>...</td>\n",
              "      <td>...</td>\n",
              "      <td>...</td>\n",
              "      <td>...</td>\n",
              "      <td>...</td>\n",
              "      <td>...</td>\n",
              "      <td>...</td>\n",
              "      <td>...</td>\n",
              "    </tr>\n",
              "    <tr>\n",
              "      <th>330563</th>\n",
              "      <td>353e6566-b272-479e-a9c6-98bd6cb23f25</td>\n",
              "      <td>2018-12-01 23:53</td>\n",
              "      <td>West End</td>\n",
              "      <td>North End</td>\n",
              "      <td>WAV</td>\n",
              "      <td>9.5</td>\n",
              "      <td>1.00</td>\n",
              "      <td>1</td>\n",
              "      <td>9.5</td>\n",
              "      <td>evening</td>\n",
              "      <td>1581</td>\n",
              "    </tr>\n",
              "    <tr>\n",
              "      <th>330564</th>\n",
              "      <td>616d3611-1820-450a-9845-a9ff304a4842</td>\n",
              "      <td>2018-12-01 23:53</td>\n",
              "      <td>West End</td>\n",
              "      <td>North End</td>\n",
              "      <td>UberXL</td>\n",
              "      <td>13.0</td>\n",
              "      <td>1.00</td>\n",
              "      <td>1</td>\n",
              "      <td>13.0</td>\n",
              "      <td>evening</td>\n",
              "      <td>1555</td>\n",
              "    </tr>\n",
              "    <tr>\n",
              "      <th>330565</th>\n",
              "      <td>633a3fc3-1f86-4b9e-9d48-2b7132112341</td>\n",
              "      <td>2018-12-01 23:53</td>\n",
              "      <td>West End</td>\n",
              "      <td>North End</td>\n",
              "      <td>Base_UberX</td>\n",
              "      <td>9.5</td>\n",
              "      <td>1.00</td>\n",
              "      <td>1</td>\n",
              "      <td>9.5</td>\n",
              "      <td>evening</td>\n",
              "      <td>1542</td>\n",
              "    </tr>\n",
              "    <tr>\n",
              "      <th>330566</th>\n",
              "      <td>727e5f07-a96b-4ad1-a2c7-9abc3ad55b4e</td>\n",
              "      <td>2018-12-01 23:53</td>\n",
              "      <td>West End</td>\n",
              "      <td>North End</td>\n",
              "      <td>Black SUV</td>\n",
              "      <td>27.0</td>\n",
              "      <td>1.00</td>\n",
              "      <td>1</td>\n",
              "      <td>27.0</td>\n",
              "      <td>evening</td>\n",
              "      <td>1576</td>\n",
              "    </tr>\n",
              "    <tr>\n",
              "      <th>330567</th>\n",
              "      <td>e7fdc087-fe86-40a5-a3c3-3b2a8badcbda</td>\n",
              "      <td>2018-12-01 23:53</td>\n",
              "      <td>West End</td>\n",
              "      <td>North End</td>\n",
              "      <td>UberPool</td>\n",
              "      <td>10.0</td>\n",
              "      <td>1.00</td>\n",
              "      <td>1</td>\n",
              "      <td>10.0</td>\n",
              "      <td>evening</td>\n",
              "      <td>1552</td>\n",
              "    </tr>\n",
              "  </tbody>\n",
              "</table>\n",
              "<p>330568 rows × 11 columns</p>\n",
              "</div>"
            ],
            "text/plain": [
              "                                          id  ... count\n",
              "0       009e9c53-074d-43cf-aef2-0fbc7a47ed3d  ...  1517\n",
              "1       23f145da-f0c1-4d1f-a184-496bc003a7db  ...  1846\n",
              "2       357559cb-8c58-4278-a41a-e33b2e0997a3  ...  1524\n",
              "3       50ef1165-9d23-416c-a65c-18906207b295  ...  1552\n",
              "4       91c4861c-1780-42b0-bca1-bbd64a422cc3  ...  1548\n",
              "...                                      ...  ...   ...\n",
              "330563  353e6566-b272-479e-a9c6-98bd6cb23f25  ...  1581\n",
              "330564  616d3611-1820-450a-9845-a9ff304a4842  ...  1555\n",
              "330565  633a3fc3-1f86-4b9e-9d48-2b7132112341  ...  1542\n",
              "330566  727e5f07-a96b-4ad1-a2c7-9abc3ad55b4e  ...  1576\n",
              "330567  e7fdc087-fe86-40a5-a3c3-3b2a8badcbda  ...  1552\n",
              "\n",
              "[330568 rows x 11 columns]"
            ]
          },
          "metadata": {},
          "execution_count": 4
        }
      ]
    },
    {
      "cell_type": "code",
      "metadata": {
        "id": "BrP6orF958u4"
      },
      "source": [
        "# Neighbourhoods data\n",
        "neighbourhoods = pd.read_csv(\"neighborhoods.csv\").rename(\n",
        "        columns={\"name\": \"neighbourhood\"})"
      ],
      "execution_count": 5,
      "outputs": []
    },
    {
      "cell_type": "code",
      "metadata": {
        "id": "n6ruihS2399w",
        "colab": {
          "base_uri": "https://localhost:8080/",
          "height": 1000
        },
        "outputId": "bb0a8ec6-6870-48c8-cdea-c2200887f7cb"
      },
      "source": [
        "# fit model online\n",
        "response = clean_data[\"adj_price\"].to_numpy()\n",
        "covariates = clean_data[\"distance\"].to_numpy()\n",
        "\n",
        "clean_response = response[~np.isnan(response)].reshape((-1,1))\n",
        "clean_covariates = covariates[~np.isnan(response)].reshape((-1,1))\n",
        "\n",
        "clean_covariates = sm.add_constant(clean_covariates, prepend=True)\n",
        "\n",
        "# Model fit\n",
        "md_online = sm.OLS(clean_response, clean_covariates).fit()\n",
        "\n",
        "print(md_online.summary())\n",
        "\n",
        "plot_diagnostics(clean_covariates, clean_response, md_online)"
      ],
      "execution_count": 6,
      "outputs": [
        {
          "output_type": "stream",
          "name": "stdout",
          "text": [
            "                            OLS Regression Results                            \n",
            "==============================================================================\n",
            "Dep. Variable:                      y   R-squared:                       0.113\n",
            "Model:                            OLS   Adj. R-squared:                  0.113\n",
            "Method:                 Least Squares   F-statistic:                 4.213e+04\n",
            "Date:                Tue, 14 Dec 2021   Prob (F-statistic):               0.00\n",
            "Time:                        04:51:15   Log-Likelihood:            -1.1590e+06\n",
            "No. Observations:              330568   AIC:                         2.318e+06\n",
            "Df Residuals:                  330566   BIC:                         2.318e+06\n",
            "Df Model:                           1                                         \n",
            "Covariance Type:            nonrobust                                         \n",
            "==============================================================================\n",
            "                 coef    std err          t      P>|t|      [0.025      0.975]\n",
            "------------------------------------------------------------------------------\n",
            "const         10.4459      0.030    352.953      0.000      10.388      10.504\n",
            "x1             2.4411      0.012    205.248      0.000       2.418       2.464\n",
            "==============================================================================\n",
            "Omnibus:                    32472.874   Durbin-Watson:                   2.244\n",
            "Prob(Omnibus):                  0.000   Jarque-Bera (JB):            42513.056\n",
            "Skew:                           0.872   Prob(JB):                         0.00\n",
            "Kurtosis:                       2.784   Cond. No.                         5.93\n",
            "==============================================================================\n",
            "\n",
            "Warnings:\n",
            "[1] Standard Errors assume that the covariance matrix of the errors is correctly specified.\n"
          ]
        },
        {
          "output_type": "display_data",
          "data": {
            "image/png": "[encoded data removed]",
            "text/plain": [
              "<Figure size 432x288 with 1 Axes>"
            ]
          },
          "metadata": {
            "needs_background": "light"
          }
        },
        {
          "output_type": "display_data",
          "data": {
            "image/png": "[encoded data removed]",
            "text/plain": [
              "<Figure size 432x288 with 1 Axes>"
            ]
          },
          "metadata": {
            "needs_background": "light"
          }
        },
        {
          "output_type": "display_data",
          "data": {
            "image/png": "[encoded data removed]",
            "text/plain": [
              "<Figure size 432x288 with 1 Axes>"
            ]
          },
          "metadata": {
            "needs_background": "light"
          }
        },
        {
          "output_type": "display_data",
          "data": {
            "text/plain": [
              "<Figure size 432x288 with 0 Axes>"
            ]
          },
          "metadata": {}
        },
        {
          "output_type": "display_data",
          "data": {
            "image/png": "[encoded data removed]",
            "text/plain": [
              "<Figure size 432x288 with 1 Axes>"
            ]
          },
          "metadata": {
            "needs_background": "light"
          }
        },
        {
          "output_type": "display_data",
          "data": {
            "image/png": "[encoded data removed]",
            "text/plain": [
              "<Figure size 432x288 with 1 Axes>"
            ]
          },
          "metadata": {
            "needs_background": "light"
          }
        }
      ]
    },
    {
      "cell_type": "code",
      "metadata": {
        "id": "A203e8c37gRU",
        "colab": {
          "base_uri": "https://localhost:8080/"
        },
        "outputId": "ff785bdf-33ec-4433-ffe1-3238f6af9fc8"
      },
      "source": [
        "# Fit Larger OLS w interactions\n",
        "design_matrix=pd.concat(\n",
        "            [pd.get_dummies(clean_data[[\"vehicle_type\",\"time\"]], drop_first=True),\n",
        "             pd.get_dummies(clean_data[\"source\"])], axis=1)\n",
        "        \n",
        "poly = PolynomialFeatures(interaction_only=True)\n",
        "interaction_matrix = poly.fit_transform(design_matrix)\n",
        "interaction_cols = poly.get_feature_names(design_matrix.columns)\n",
        "    \n",
        "interaction_matrix = pd.DataFrame(interaction_matrix)\n",
        "interaction_matrix.columns = interaction_cols\n",
        "    \n",
        "interaction_matrix=pd.concat([interaction_matrix, clean_data[\"distance\"]],\n",
        "                                     axis=1)\n",
        "        #interaction_matrix=sm.add_constant(design_matrix, prepend=True)\n",
        "        \n",
        "endog, lamb = boxcox(response.astype(\"float64\"))\n",
        "exog = interaction_matrix.astype(\"float64\")\n",
        "\n",
        "mdf_large_ols_int = sm.OLS(endog, exog).fit()\n",
        "print(mdf_large_ols_int.summary())"
      ],
      "execution_count": 7,
      "outputs": [
        {
          "output_type": "stream",
          "name": "stderr",
          "text": [
            "/usr/local/lib/python3.7/dist-packages/sklearn/utils/deprecation.py:87: FutureWarning: Function get_feature_names is deprecated; get_feature_names is deprecated in 1.0 and will be removed in 1.2. Please use get_feature_names_out instead.\n",
            "  warnings.warn(msg, category=FutureWarning)\n"
          ]
        },
        {
          "output_type": "stream",
          "name": "stdout",
          "text": [
            "                            OLS Regression Results                            \n",
            "==============================================================================\n",
            "Dep. Variable:                      y   R-squared:                       0.918\n",
            "Model:                            OLS   Adj. R-squared:                  0.918\n",
            "Method:                 Least Squares   F-statistic:                 3.473e+04\n",
            "Date:                Tue, 14 Dec 2021   Prob (F-statistic):               0.00\n",
            "Time:                        04:51:35   Log-Likelihood:             5.1889e+05\n",
            "No. Observations:              330568   AIC:                        -1.038e+06\n",
            "Df Residuals:                  330461   BIC:                        -1.036e+06\n",
            "Df Model:                         106                                         \n",
            "Covariance Type:            nonrobust                                         \n",
            "==================================================================================================================\n",
            "                                                     coef    std err          t      P>|t|      [0.025      0.975]\n",
            "------------------------------------------------------------------------------------------------------------------\n",
            "1                                                  1.2570      0.000   3536.259      0.000       1.256       1.258\n",
            "vehicle_type_Black                                 0.2433      0.000    550.187      0.000       0.242       0.244\n",
            "vehicle_type_Black SUV                             0.3494      0.000    790.003      0.000       0.349       0.350\n",
            "vehicle_type_UberPool                             -0.0416      0.000    -94.021      0.000      -0.043      -0.041\n",
            "vehicle_type_UberXL                                0.1588      0.000    358.881      0.000       0.158       0.160\n",
            "vehicle_type_WAV                                  -0.0005      0.000     -1.147      0.251      -0.001       0.000\n",
            "time_afternoon                                     0.0002      0.000      0.436      0.663      -0.001       0.001\n",
            "time_evening                                    3.109e-05      0.000      0.067      0.946      -0.001       0.001\n",
            "Back Bay                                           0.1049      0.001    131.470      0.000       0.103       0.106\n",
            "Beacon Hill                                        0.1080      0.001    135.729      0.000       0.106       0.110\n",
            "Boston University                                  0.1024      0.001    127.751      0.000       0.101       0.104\n",
            "Fenway                                             0.1077      0.001    134.616      0.000       0.106       0.109\n",
            "Financial District                                 0.0922      0.001    116.362      0.000       0.091       0.094\n",
            "Haymarket Square                                   0.0981      0.001    123.026      0.000       0.097       0.100\n",
            "North End                                          0.1165      0.001    146.171      0.000       0.115       0.118\n",
            "North Station                                      0.0968      0.001    120.941      0.000       0.095       0.098\n",
            "Northeastern University                            0.1051      0.001    131.801      0.000       0.104       0.107\n",
            "South Station                                      0.1108      0.001    139.112      0.000       0.109       0.112\n",
            "Theatre District                                   0.1135      0.001    143.463      0.000       0.112       0.115\n",
            "West End                                           0.1010      0.001    126.586      0.000       0.099       0.103\n",
            "vehicle_type_Black vehicle_type_Black SUV      -4.906e-18    1.5e-18     -3.282      0.001   -7.84e-18   -1.98e-18\n",
            "vehicle_type_Black vehicle_type_UberPool       -2.614e-17   1.38e-18    -18.907      0.000   -2.89e-17   -2.34e-17\n",
            "vehicle_type_Black vehicle_type_UberXL          -4.02e-17   1.78e-18    -22.636      0.000   -4.37e-17   -3.67e-17\n",
            "vehicle_type_Black vehicle_type_WAV             1.658e-17   1.23e-18     13.475      0.000    1.42e-17     1.9e-17\n",
            "vehicle_type_Black time_afternoon                 -0.0007      0.001     -0.876      0.381      -0.002       0.001\n",
            "vehicle_type_Black time_evening                -5.889e-05      0.001     -0.083      0.934      -0.001       0.001\n",
            "vehicle_type_Black Back Bay                        0.0105      0.001     10.411      0.000       0.009       0.012\n",
            "vehicle_type_Black Beacon Hill                     0.0171      0.001     16.931      0.000       0.015       0.019\n",
            "vehicle_type_Black Boston University               0.0191      0.001     18.940      0.000       0.017       0.021\n",
            "vehicle_type_Black Fenway                          0.0122      0.001     12.080      0.000       0.010       0.014\n",
            "vehicle_type_Black Financial District              0.0241      0.001     24.123      0.000       0.022       0.026\n",
            "vehicle_type_Black Haymarket Square                0.0333      0.001     33.021      0.000       0.031       0.035\n",
            "vehicle_type_Black North End                       0.0148      0.001     14.670      0.000       0.013       0.017\n",
            "vehicle_type_Black North Station                   0.0376      0.001     37.118      0.000       0.036       0.040\n",
            "vehicle_type_Black Northeastern University         0.0056      0.001      5.608      0.000       0.004       0.008\n",
            "vehicle_type_Black South Station                   0.0184      0.001     18.266      0.000       0.016       0.020\n",
            "vehicle_type_Black Theatre District                0.0200      0.001     19.944      0.000       0.018       0.022\n",
            "vehicle_type_Black West End                        0.0306      0.001     30.361      0.000       0.029       0.033\n",
            "vehicle_type_Black SUV vehicle_type_UberPool    2.086e-17   2.29e-18      9.109      0.000    1.64e-17    2.54e-17\n",
            "vehicle_type_Black SUV vehicle_type_UberXL      3.023e-17   1.26e-18     23.933      0.000    2.78e-17    3.27e-17\n",
            "vehicle_type_Black SUV vehicle_type_WAV         1.199e-18   1.04e-18      1.156      0.248   -8.34e-19    3.23e-18\n",
            "vehicle_type_Black SUV time_afternoon             -0.0004      0.001     -0.505      0.614      -0.002       0.001\n",
            "vehicle_type_Black SUV time_evening               -0.0003      0.001     -0.438      0.661      -0.002       0.001\n",
            "vehicle_type_Black SUV Back Bay                    0.0203      0.001     20.155      0.000       0.018       0.022\n",
            "vehicle_type_Black SUV Beacon Hill                 0.0208      0.001     20.558      0.000       0.019       0.023\n",
            "vehicle_type_Black SUV Boston University           0.0111      0.001     11.061      0.000       0.009       0.013\n",
            "vehicle_type_Black SUV Fenway                      0.0096      0.001      9.570      0.000       0.008       0.012\n",
            "vehicle_type_Black SUV Financial District          0.0306      0.001     30.568      0.000       0.029       0.033\n",
            "vehicle_type_Black SUV Haymarket Square            0.0747      0.001     74.214      0.000       0.073       0.077\n",
            "vehicle_type_Black SUV North End                   0.0393      0.001     39.017      0.000       0.037       0.041\n",
            "vehicle_type_Black SUV North Station               0.0413      0.001     40.769      0.000       0.039       0.043\n",
            "vehicle_type_Black SUV Northeastern University     0.0071      0.001      7.072      0.000       0.005       0.009\n",
            "vehicle_type_Black SUV South Station               0.0315      0.001     31.287      0.000       0.030       0.033\n",
            "vehicle_type_Black SUV Theatre District            0.0286      0.001     28.498      0.000       0.027       0.031\n",
            "vehicle_type_Black SUV West End                    0.0344      0.001     34.104      0.000       0.032       0.036\n",
            "vehicle_type_UberPool vehicle_type_UberXL       2.326e-17   1.11e-18     20.915      0.000    2.11e-17    2.54e-17\n",
            "vehicle_type_UberPool vehicle_type_WAV           1.44e-17   7.74e-19     18.610      0.000    1.29e-17    1.59e-17\n",
            "vehicle_type_UberPool time_afternoon           -4.572e-05      0.001     -0.060      0.952      -0.002       0.001\n",
            "vehicle_type_UberPool time_evening                -0.0004      0.001     -0.550      0.582      -0.002       0.001\n",
            "vehicle_type_UberPool Back Bay                     0.0085      0.001      8.440      0.000       0.007       0.010\n",
            "vehicle_type_UberPool Beacon Hill                  0.0025      0.001      2.517      0.012       0.001       0.005\n",
            "vehicle_type_UberPool Boston University           -0.0335      0.001    -33.258      0.000      -0.035      -0.032\n",
            "vehicle_type_UberPool Fenway                      -0.0166      0.001    -16.504      0.000      -0.019      -0.015\n",
            "vehicle_type_UberPool Financial District          -0.0104      0.001    -10.426      0.000      -0.012      -0.008\n",
            "vehicle_type_UberPool Haymarket Square             0.0111      0.001     11.014      0.000       0.009       0.013\n",
            "vehicle_type_UberPool North End                    0.0065      0.001      6.413      0.000       0.004       0.008\n",
            "vehicle_type_UberPool North Station                0.0060      0.001      5.879      0.000       0.004       0.008\n",
            "vehicle_type_UberPool Northeastern University     -0.0156      0.001    -15.512      0.000      -0.018      -0.014\n",
            "vehicle_type_UberPool South Station               -0.0211      0.001    -20.989      0.000      -0.023      -0.019\n",
            "vehicle_type_UberPool Theatre District             0.0133      0.001     13.215      0.000       0.011       0.015\n",
            "vehicle_type_UberPool West End                     0.0078      0.001      7.770      0.000       0.006       0.010\n",
            "vehicle_type_UberXL vehicle_type_WAV           -2.346e-17   7.41e-19    -31.659      0.000   -2.49e-17    -2.2e-17\n",
            "vehicle_type_UberXL time_afternoon                 0.0003      0.001      0.456      0.648      -0.001       0.002\n",
            "vehicle_type_UberXL time_evening                  -0.0003      0.001     -0.426      0.670      -0.002       0.001\n",
            "vehicle_type_UberXL Back Bay                       0.0113      0.001     11.213      0.000       0.009       0.013\n",
            "vehicle_type_UberXL Beacon Hill                    0.0142      0.001     14.102      0.000       0.012       0.016\n",
            "vehicle_type_UberXL Boston University              0.0244      0.001     24.178      0.000       0.022       0.026\n",
            "vehicle_type_UberXL Fenway                         0.0239      0.001     23.713      0.000       0.022       0.026\n",
            "vehicle_type_UberXL Financial District             0.0042      0.001      4.246      0.000       0.002       0.006\n",
            "vehicle_type_UberXL Haymarket Square              -0.0012      0.001     -1.230      0.219      -0.003       0.001\n",
            "vehicle_type_UberXL North End                      0.0060      0.001      5.927      0.000       0.004       0.008\n",
            "vehicle_type_UberXL North Station                  0.0180      0.001     17.818      0.000       0.016       0.020\n",
            "vehicle_type_UberXL Northeastern University        0.0186      0.001     18.456      0.000       0.017       0.021\n",
            "vehicle_type_UberXL South Station                  0.0070      0.001      6.988      0.000       0.005       0.009\n",
            "vehicle_type_UberXL Theatre District               0.0126      0.001     12.489      0.000       0.011       0.015\n",
            "vehicle_type_UberXL West End                       0.0199      0.001     19.700      0.000       0.018       0.022\n",
            "vehicle_type_WAV time_afternoon                    0.0006      0.001      0.786      0.432      -0.001       0.002\n",
            "vehicle_type_WAV time_evening                      0.0012      0.001      1.637      0.102      -0.000       0.003\n",
            "vehicle_type_WAV Back Bay                      -6.351e-05      0.001     -0.063      0.950      -0.002       0.002\n",
            "vehicle_type_WAV Beacon Hill                   -2.553e-05      0.001     -0.025      0.980      -0.002       0.002\n",
            "vehicle_type_WAV Boston University             -5.845e-05      0.001     -0.058      0.954      -0.002       0.002\n",
            "vehicle_type_WAV Fenway                        -3.203e-05      0.001     -0.032      0.975      -0.002       0.002\n",
            "vehicle_type_WAV Financial District            -3.703e-05      0.001     -0.037      0.970      -0.002       0.002\n",
            "vehicle_type_WAV Haymarket Square              -3.206e-05      0.001     -0.032      0.975      -0.002       0.002\n",
            "vehicle_type_WAV North End                     -3.888e-05      0.001     -0.039      0.969      -0.002       0.002\n",
            "vehicle_type_WAV North Station                 -4.956e-05      0.001     -0.049      0.961      -0.002       0.002\n",
            "vehicle_type_WAV Northeastern University       -5.436e-05      0.001     -0.054      0.957      -0.002       0.002\n",
            "vehicle_type_WAV South Station                 -4.686e-05      0.001     -0.047      0.963      -0.002       0.002\n",
            "vehicle_type_WAV Theatre District              -2.206e-05      0.001     -0.022      0.982      -0.002       0.002\n",
            "vehicle_type_WAV West End                      -4.738e-05      0.001     -0.047      0.963      -0.002       0.002\n",
            "time_afternoon time_evening                    -8.022e-18   3.15e-19    -25.502      0.000   -8.64e-18   -7.41e-18\n",
            "time_afternoon Back Bay                            0.0020      0.001      2.716      0.007       0.001       0.003\n",
            "time_afternoon Beacon Hill                        -0.0007      0.001     -1.019      0.308      -0.002       0.001\n",
            "time_afternoon Boston University                   0.0011      0.001      1.482      0.138      -0.000       0.003\n",
            "time_afternoon Fenway                           8.081e-05      0.001      0.110      0.912      -0.001       0.002\n",
            "time_afternoon Financial District                  0.0006      0.001      0.865      0.387      -0.001       0.002\n",
            "time_afternoon Haymarket Square                   -0.0007      0.001     -0.999      0.318      -0.002       0.001\n",
            "time_afternoon North End                           0.0008      0.001      1.079      0.281      -0.001       0.002\n",
            "time_afternoon North Station                      -0.0012      0.001     -1.633      0.102      -0.003       0.000\n",
            "time_afternoon Northeastern University         -5.178e-05      0.001     -0.071      0.943      -0.001       0.001\n",
            "time_afternoon South Station                       0.0006      0.001      0.832      0.406      -0.001       0.002\n",
            "time_afternoon Theatre District                   -0.0016      0.001     -2.188      0.029      -0.003      -0.000\n",
            "time_afternoon West End                           -0.0006      0.001     -0.880      0.379      -0.002       0.001\n",
            "time_evening Back Bay                              0.0015      0.001      2.257      0.024       0.000       0.003\n",
            "time_evening Beacon Hill                        1.122e-05      0.001      0.017      0.987      -0.001       0.001\n",
            "time_evening Boston University                     0.0006      0.001      0.887      0.375      -0.001       0.002\n",
            "time_evening Fenway                                0.0006      0.001      0.856      0.392      -0.001       0.002\n",
            "time_evening Financial District                    0.0002      0.001      0.313      0.754      -0.001       0.002\n",
            "time_evening Haymarket Square                     -0.0008      0.001     -1.188      0.235      -0.002       0.001\n",
            "time_evening North End                            -0.0003      0.001     -0.468      0.640      -0.002       0.001\n",
            "time_evening North Station                        -0.0001      0.001     -0.180      0.857      -0.001       0.001\n",
            "time_evening Northeastern University               0.0011      0.001      1.592      0.111      -0.000       0.002\n",
            "time_evening South Station                        -0.0010      0.001     -1.521      0.128      -0.002       0.000\n",
            "time_evening Theatre District                     -0.0011      0.001     -1.638      0.101      -0.002       0.000\n",
            "time_evening West End                             -0.0006      0.001     -0.867      0.386      -0.002       0.001\n",
            "Back Bay Beacon Hill                                    0          0        nan        nan           0           0\n",
            "Back Bay Boston University                              0          0        nan        nan           0           0\n",
            "Back Bay Fenway                                         0          0        nan        nan           0           0\n",
            "Back Bay Financial District                             0          0        nan        nan           0           0\n",
            "Back Bay Haymarket Square                               0          0        nan        nan           0           0\n",
            "Back Bay North End                                      0          0        nan        nan           0           0\n",
            "Back Bay North Station                                  0          0        nan        nan           0           0\n",
            "Back Bay Northeastern University                        0          0        nan        nan           0           0\n",
            "Back Bay South Station                                  0          0        nan        nan           0           0\n",
            "Back Bay Theatre District                               0          0        nan        nan           0           0\n",
            "Back Bay West End                                       0          0        nan        nan           0           0\n",
            "Beacon Hill Boston University                           0          0        nan        nan           0           0\n",
            "Beacon Hill Fenway                                      0          0        nan        nan           0           0\n",
            "Beacon Hill Financial District                          0          0        nan        nan           0           0\n",
            "Beacon Hill Haymarket Square                            0          0        nan        nan           0           0\n",
            "Beacon Hill North End                                   0          0        nan        nan           0           0\n",
            "Beacon Hill North Station                               0          0        nan        nan           0           0\n",
            "Beacon Hill Northeastern University                     0          0        nan        nan           0           0\n",
            "Beacon Hill South Station                               0          0        nan        nan           0           0\n",
            "Beacon Hill Theatre District                            0          0        nan        nan           0           0\n",
            "Beacon Hill West End                                    0          0        nan        nan           0           0\n",
            "Boston University Fenway                                0          0        nan        nan           0           0\n",
            "Boston University Financial District                    0          0        nan        nan           0           0\n",
            "Boston University Haymarket Square                      0          0        nan        nan           0           0\n",
            "Boston University North End                             0          0        nan        nan           0           0\n",
            "Boston University North Station                         0          0        nan        nan           0           0\n",
            "Boston University Northeastern University               0          0        nan        nan           0           0\n",
            "Boston University South Station                         0          0        nan        nan           0           0\n",
            "Boston University Theatre District                      0          0        nan        nan           0           0\n",
            "Boston University West End                              0          0        nan        nan           0           0\n",
            "Fenway Financial District                               0          0        nan        nan           0           0\n",
            "Fenway Haymarket Square                                 0          0        nan        nan           0           0\n",
            "Fenway North End                                        0          0        nan        nan           0           0\n",
            "Fenway North Station                                    0          0        nan        nan           0           0\n",
            "Fenway Northeastern University                          0          0        nan        nan           0           0\n",
            "Fenway South Station                                    0          0        nan        nan           0           0\n",
            "Fenway Theatre District                                 0          0        nan        nan           0           0\n",
            "Fenway West End                                         0          0        nan        nan           0           0\n",
            "Financial District Haymarket Square                     0          0        nan        nan           0           0\n",
            "Financial District North End                            0          0        nan        nan           0           0\n",
            "Financial District North Station                        0          0        nan        nan           0           0\n",
            "Financial District Northeastern University              0          0        nan        nan           0           0\n",
            "Financial District South Station                        0          0        nan        nan           0           0\n",
            "Financial District Theatre District                     0          0        nan        nan           0           0\n",
            "Financial District West End                             0          0        nan        nan           0           0\n",
            "Haymarket Square North End                              0          0        nan        nan           0           0\n",
            "Haymarket Square North Station                          0          0        nan        nan           0           0\n",
            "Haymarket Square Northeastern University                0          0        nan        nan           0           0\n",
            "Haymarket Square South Station                          0          0        nan        nan           0           0\n",
            "Haymarket Square Theatre District                       0          0        nan        nan           0           0\n",
            "Haymarket Square West End                               0          0        nan        nan           0           0\n",
            "North End North Station                                 0          0        nan        nan           0           0\n",
            "North End Northeastern University                       0          0        nan        nan           0           0\n",
            "North End South Station                                 0          0        nan        nan           0           0\n",
            "North End Theatre District                              0          0        nan        nan           0           0\n",
            "North End West End                                      0          0        nan        nan           0           0\n",
            "North Station Northeastern University                   0          0        nan        nan           0           0\n",
            "North Station South Station                             0          0        nan        nan           0           0\n",
            "North Station Theatre District                          0          0        nan        nan           0           0\n",
            "North Station West End                                  0          0        nan        nan           0           0\n",
            "Northeastern University South Station                   0          0        nan        nan           0           0\n",
            "Northeastern University Theatre District                0          0        nan        nan           0           0\n",
            "Northeastern University West End                        0          0        nan        nan           0           0\n",
            "South Station Theatre District                          0          0        nan        nan           0           0\n",
            "South Station West End                                  0          0        nan        nan           0           0\n",
            "Theatre District West End                               0          0        nan        nan           0           0\n",
            "distance                                           0.0547   8.43e-05    649.657      0.000       0.055       0.055\n",
            "==============================================================================\n",
            "Omnibus:                    68755.160   Durbin-Watson:                   1.213\n",
            "Prob(Omnibus):                  0.000   Jarque-Bera (JB):           284744.256\n",
            "Skew:                           0.980   Prob(JB):                         0.00\n",
            "Kurtosis:                       7.103   Cond. No.                     1.96e+16\n",
            "==============================================================================\n",
            "\n",
            "Warnings:\n",
            "[1] Standard Errors assume that the covariance matrix of the errors is correctly specified.\n",
            "[2] The smallest eigenvalue is 6.35e-27. This might indicate that there are\n",
            "strong multicollinearity problems or that the design matrix is singular.\n"
          ]
        },
        {
          "output_type": "stream",
          "name": "stderr",
          "text": [
            "/usr/local/lib/python3.7/dist-packages/statsmodels/base/model.py:1294: RuntimeWarning: invalid value encountered in true_divide\n",
            "  return self.params / self.bse\n"
          ]
        }
      ]
    },
    {
      "cell_type": "code",
      "metadata": {
        "id": "ghD812-w9Yiq",
        "colab": {
          "base_uri": "https://localhost:8080/",
          "height": 1000
        },
        "outputId": "2b014f59-81d6-40ad-9a6e-6247a641624a"
      },
      "source": [
        "# OLS (Larger)\n",
        "\n",
        "predictors = clean_data[[\"distance\", \"time\", \"vehicle_type\", \"source\"]]\n",
        "response = clean_data[\"adj_price\"]\n",
        "\n",
        "design_matrix=pd.concat(\n",
        "            [pd.get_dummies(clean_data[[\"vehicle_type\",\"time\"]], drop_first=True),\n",
        "             pd.get_dummies(clean_data[\"source\"]), predictors[\"distance\"]],\n",
        "             axis=1)\n",
        "    \n",
        "design_matrix = sm.add_constant(design_matrix, prepend=True)\n",
        "        \n",
        "endog, lamb = boxcox(response.astype(\"float64\"))\n",
        "exog = design_matrix.astype(\"float64\")\n",
        " \n",
        "\n",
        "mdf_ols_larger = sm.OLS(endog, exog).fit()\n",
        "print(mdf_ols_larger.summary())\n",
        "        \n",
        "print(lamb)\n",
        "        \n",
        "plot_diagnostics(design_matrix, response, mdf_ols_larger)\n",
        "        "
      ],
      "execution_count": 8,
      "outputs": [
        {
          "output_type": "stream",
          "name": "stdout",
          "text": [
            "                            OLS Regression Results                            \n",
            "==============================================================================\n",
            "Dep. Variable:                      y   R-squared:                       0.915\n",
            "Model:                            OLS   Adj. R-squared:                  0.915\n",
            "Method:                 Least Squares   F-statistic:                 1.870e+05\n",
            "Date:                Tue, 14 Dec 2021   Prob (F-statistic):               0.00\n",
            "Time:                        04:51:37   Log-Likelihood:             5.1349e+05\n",
            "No. Observations:              330568   AIC:                        -1.027e+06\n",
            "Df Residuals:                  330548   BIC:                        -1.027e+06\n",
            "Df Model:                          19                                         \n",
            "Covariance Type:            nonrobust                                         \n",
            "===========================================================================================\n",
            "                              coef    std err          t      P>|t|      [0.025      0.975]\n",
            "-------------------------------------------------------------------------------------------\n",
            "const                       1.2570      0.000   4427.565      0.000       1.256       1.258\n",
            "vehicle_type_Black          0.2633      0.000    853.814      0.000       0.263       0.264\n",
            "vehicle_type_Black SUV      0.3783      0.000   1226.584      0.000       0.378       0.379\n",
            "vehicle_type_UberPool      -0.0453      0.000   -146.819      0.000      -0.046      -0.045\n",
            "vehicle_type_UberXL         0.1720      0.000    557.792      0.000       0.171       0.173\n",
            "vehicle_type_WAV         -1.79e-06      0.000     -0.006      0.995      -0.001       0.001\n",
            "time_afternoon              0.0002      0.000      0.901      0.367      -0.000       0.001\n",
            "time_evening             4.346e-05      0.000      0.209      0.835      -0.000       0.000\n",
            "Back Bay                    0.1045      0.000    352.825      0.000       0.104       0.105\n",
            "Beacon Hill                 0.1070      0.000    360.730      0.000       0.106       0.108\n",
            "Boston University           0.0965      0.000    312.914      0.000       0.096       0.097\n",
            "Fenway                      0.1029      0.000    339.196      0.000       0.102       0.103\n",
            "Financial District          0.0907      0.000    301.212      0.000       0.090       0.091\n",
            "Haymarket Square            0.1074      0.000    350.286      0.000       0.107       0.108\n",
            "North End                   0.1179      0.000    395.064      0.000       0.117       0.118\n",
            "North Station               0.1038      0.000    348.541      0.000       0.103       0.104\n",
            "Northeastern University     0.0982      0.000    323.896      0.000       0.098       0.099\n",
            "South Station               0.1067      0.000    360.232      0.000       0.106       0.107\n",
            "Theatre District            0.1152      0.000    389.544      0.000       0.115       0.116\n",
            "West End                    0.1062      0.000    358.514      0.000       0.106       0.107\n",
            "distance                    0.0547   8.56e-05    639.269      0.000       0.055       0.055\n",
            "==============================================================================\n",
            "Omnibus:                    64410.434   Durbin-Watson:                   1.249\n",
            "Prob(Omnibus):                  0.000   Jarque-Bera (JB):           257484.860\n",
            "Skew:                           0.927   Prob(JB):                         0.00\n",
            "Kurtosis:                       6.906   Cond. No.                     1.82e+16\n",
            "==============================================================================\n",
            "\n",
            "Warnings:\n",
            "[1] Standard Errors assume that the covariance matrix of the errors is correctly specified.\n",
            "[2] The smallest eigenvalue is 7.29e-27. This might indicate that there are\n",
            "strong multicollinearity problems or that the design matrix is singular.\n",
            "-0.39883256999833244\n"
          ]
        },
        {
          "output_type": "display_data",
          "data": {
            "image/png": "[encoded data removed]",
            "text/plain": [
              "<Figure size 432x288 with 1 Axes>"
            ]
          },
          "metadata": {
            "needs_background": "light"
          }
        },
        {
          "output_type": "display_data",
          "data": {
            "image/png": "[encoded data removed]",
            "text/plain": [
              "<Figure size 432x288 with 1 Axes>"
            ]
          },
          "metadata": {
            "needs_background": "light"
          }
        },
        {
          "output_type": "display_data",
          "data": {
            "image/png": "[encoded data removed]",
            "text/plain": [
              "<Figure size 432x288 with 1 Axes>"
            ]
          },
          "metadata": {
            "needs_background": "light"
          }
        },
        {
          "output_type": "display_data",
          "data": {
            "text/plain": [
              "<Figure size 432x288 with 0 Axes>"
            ]
          },
          "metadata": {}
        },
        {
          "output_type": "display_data",
          "data": {
            "image/png": "[encoded data removed]",
            "text/plain": [
              "<Figure size 432x288 with 1 Axes>"
            ]
          },
          "metadata": {
            "needs_background": "light"
          }
        },
        {
          "output_type": "display_data",
          "data": {
            "image/png": "[encoded data removed]",
            "text/plain": [
              "<Figure size 432x288 with 1 Axes>"
            ]
          },
          "metadata": {
            "needs_background": "light"
          }
        }
      ]
    },
    {
      "cell_type": "code",
      "metadata": {
        "id": "0pjUPC_r9Tgx",
        "colab": {
          "base_uri": "https://localhost:8080/"
        },
        "outputId": "c8c86b21-ef81-44e4-bca9-674f29409631"
      },
      "source": [
        "# fit LMM\n",
        "def fit_LMM(data):\n",
        "  predictors = data[[\"distance\", \"source\", \"vehicle_type\"]]\n",
        "  #data = pd.concat([predictors, response], axis=1)\n",
        "  #data[\"groups\"]=data[\"vehicle_type\"]\n",
        "          \n",
        "  data[\"bc_adj_price\"], lamb = boxcox(data[\"adj_price\"].astype(\"float64\"))\n",
        "          \n",
        "  mdf_lmm = smf.mixedlm(\"bc_adj_price ~ distance + C(source)\",\n",
        "                    data=data, \n",
        "                    groups=\"vehicle_type\").fit()\n",
        "  # mdf = smf.mixedlm(\"adj_price ~ distance * C(source)\",\n",
        "  #                  data=data, groups=\"vehicle_type\").fit()\n",
        "  print(mdf_lmm.summary())\n",
        "  return mdf_lmm, lamb\n",
        "\n",
        "mdf_lmm, lamb = fit_LMM(data=clean_data)"
      ],
      "execution_count": 9,
      "outputs": [
        {
          "output_type": "stream",
          "name": "stdout",
          "text": [
            "                     Mixed Linear Model Regression Results\n",
            "================================================================================\n",
            "Model:                    MixedLM        Dependent Variable:        bc_adj_price\n",
            "No. Observations:         330568         Method:                    REML        \n",
            "No. Groups:               6              Scale:                     0.0026      \n",
            "Min. group size:          55091          Likelihood:                513362.5462 \n",
            "Max. group size:          55096          Converged:                 Yes         \n",
            "Mean group size:          55094.7                                               \n",
            "--------------------------------------------------------------------------------\n",
            "                                     Coef.  Std.Err.    z    P>|z| [0.025 0.975]\n",
            "--------------------------------------------------------------------------------\n",
            "Intercept                             1.490    0.049  30.210 0.000  1.393  1.586\n",
            "C(source)[T.Beacon Hill]              0.003    0.000   5.803 0.000  0.002  0.003\n",
            "C(source)[T.Boston University]       -0.008    0.000 -17.970 0.000 -0.009 -0.007\n",
            "C(source)[T.Fenway]                  -0.002    0.000  -3.689 0.000 -0.002 -0.001\n",
            "C(source)[T.Financial District]      -0.014    0.000 -31.488 0.000 -0.015 -0.013\n",
            "C(source)[T.Haymarket Square]         0.003    0.000   6.541 0.000  0.002  0.004\n",
            "C(source)[T.North End]                0.013    0.000  30.467 0.000  0.013  0.014\n",
            "C(source)[T.North Station]           -0.001    0.000  -1.666 0.096 -0.002  0.000\n",
            "C(source)[T.Northeastern University] -0.006    0.000 -14.250 0.000 -0.007 -0.005\n",
            "C(source)[T.South Station]            0.002    0.000   4.999 0.000  0.001  0.003\n",
            "C(source)[T.Theatre District]         0.011    0.000  24.594 0.000  0.010  0.012\n",
            "C(source)[T.West End]                 0.002    0.000   3.992 0.000  0.001  0.003\n",
            "distance                              0.055    0.000 639.266 0.000  0.055  0.055\n",
            "vehicle_type Var                      0.015    0.104                            \n",
            "================================================================================\n",
            "\n"
          ]
        }
      ]
    },
    {
      "cell_type": "code",
      "metadata": {
        "id": "qduFz3P1biMf",
        "colab": {
          "base_uri": "https://localhost:8080/"
        },
        "outputId": "6ef8ddbc-b8a3-49ea-e143-192b9317caa1"
      },
      "source": [
        "def fit_online_OLS(data): \n",
        "    mdf_ols_online = smf.ols(\"adj_price ~ distance\", data=data).fit()\n",
        "    print(mdf_ols_online.summary())\n",
        "\n",
        "    return mdf_ols_online, None\n",
        "\n",
        "mdf_ols, _ = fit_online_OLS(clean_data)\n"
      ],
      "execution_count": 10,
      "outputs": [
        {
          "output_type": "stream",
          "name": "stdout",
          "text": [
            "                            OLS Regression Results                            \n",
            "==============================================================================\n",
            "Dep. Variable:              adj_price   R-squared:                       0.113\n",
            "Model:                            OLS   Adj. R-squared:                  0.113\n",
            "Method:                 Least Squares   F-statistic:                 4.213e+04\n",
            "Date:                Tue, 14 Dec 2021   Prob (F-statistic):               0.00\n",
            "Time:                        04:51:48   Log-Likelihood:            -1.1590e+06\n",
            "No. Observations:              330568   AIC:                         2.318e+06\n",
            "Df Residuals:                  330566   BIC:                         2.318e+06\n",
            "Df Model:                           1                                         \n",
            "Covariance Type:            nonrobust                                         \n",
            "==============================================================================\n",
            "                 coef    std err          t      P>|t|      [0.025      0.975]\n",
            "------------------------------------------------------------------------------\n",
            "Intercept     10.4459      0.030    352.953      0.000      10.388      10.504\n",
            "distance       2.4411      0.012    205.248      0.000       2.418       2.464\n",
            "==============================================================================\n",
            "Omnibus:                    32472.874   Durbin-Watson:                   2.244\n",
            "Prob(Omnibus):                  0.000   Jarque-Bera (JB):            42513.056\n",
            "Skew:                           0.872   Prob(JB):                         0.00\n",
            "Kurtosis:                       2.784   Cond. No.                         5.93\n",
            "==============================================================================\n",
            "\n",
            "Warnings:\n",
            "[1] Standard Errors assume that the covariance matrix of the errors is correctly specified.\n"
          ]
        }
      ]
    },
    {
      "cell_type": "code",
      "metadata": {
        "id": "o5_g8ct--1MF",
        "colab": {
          "base_uri": "https://localhost:8080/",
          "height": 1000,
          "resources": {
            "http://localhost:8080/nbextensions/google.colab/files.js": {
              "data": "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",
              "ok": true,
              "headers": [
                [
                  "content-type",
                  "application/javascript"
                ]
              ],
              "status": 200,
              "status_text": ""
            }
          }
        },
        "outputId": "8f16aa9c-b369-4c25-e92d-18543a144278"
      },
      "source": [
        "\n",
        "# Generate data splits\n",
        "#\n",
        "#clean_data[\"bc_adj_price\"], lamb = boxcox(data[\"adj_price\"].astype(\"float64\"))\n",
        "#clean_data = clean_data_func()\n",
        "files.upload() \n",
        "\n",
        "clean_data = pd.read_csv(\"clean_data.csv\")\n",
        "\n",
        "clean_data[\"id\"] = np.arange(clean_data.shape[0])\n",
        "\n",
        "np.random.seed(seed=0)\n",
        "\n",
        "sample=clean_data.groupby(by=[\"vehicle_type\", \"source\"]).sample(frac=0.75)\\\n",
        "[[\"id\", \"source\", \"distance\", \"vehicle_type\", \"adj_price\"]]\n",
        "\n",
        "train_id = sample[\"id\"].to_numpy()\n",
        "test_id = ~np.isin(np.arange(clean_data.shape[0]),train_id)\n",
        "\n",
        "features = clean_data[sample.columns]\n",
        "\n",
        "train_features = features.iloc[train_id,:]\n",
        "test_features = features.iloc[test_id,:]\n",
        "\n",
        "test_features\n",
        "\n",
        "train_labels = features.iloc[train_id][\"adj_price\"].to_numpy()\n",
        "test_labels = features.iloc[test_id][\"adj_price\"].to_numpy()\n",
        "\n",
        "trained_LMM, train_lamb_LMM = fit_LMM(data=train_features)\n",
        "trained_OLS_orig, _ = fit_online_OLS(data=train_features)\n",
        "\n",
        "def eval_rmse_by_nb(mdf, lamb):\n",
        "\n",
        "  coef=mdf.params\n",
        "  if lamb is not None:\n",
        "    train_pred=inv_boxcox(mdf.fittedvalues, lamb)\n",
        "    test_pred=inv_boxcox(mdf.predict(test_features), lamb)\n",
        "  else:\n",
        "    train_pred = mdf.fittedvalues\n",
        "    test_pred = mdf.predict(test_features)\n",
        "\n",
        "  comp_preds = pd.DataFrame({\"pred\": test_pred,\n",
        "                            \"veh\": test_features[\"vehicle_type\"],\n",
        "                            \"nb\": test_features[\"source\"],\n",
        "                            \"true\": test_features[\"adj_price\"]})\n",
        "\n",
        "  comp_preds[\"rmse\"]=np.sqrt(np.subtract(comp_preds[\"pred\"], comp_preds[\"true\"])**2)\n",
        "\n",
        "  return comp_preds\n",
        "\n",
        "  #return rmse_by_nb.reset_index(), test_pred\n",
        "\n",
        "# Now get the rmse by neighbourhood\n",
        "rmse_by_nb_lmm = eval_rmse_by_nb(trained_LMM, train_lamb_LMM)\n",
        "rmse_by_nb_ols = eval_rmse_by_nb(trained_OLS_orig, None)\n",
        "\n",
        "rmse_by_nb_ols\n",
        "rmse_by_nb_lmm\n",
        "\n",
        "ols_results=rmse_by_nb_ols.groupby(by=[\"veh\", \"nb\"]).mean().reset_index()\n",
        "ols_results=pd.merge(left=ols_results, right=neighbourhoods,\n",
        "                     left_on = \"nb\", right_on = \"neighbourhood\",\n",
        "                     how=\"left\").dropna()\n",
        "ols_results.sort_values(by=[\"veh\", \"avg_house_income\"])\n",
        "\n",
        "ols_results.sort_values(by=[\"veh\", \"avg_house_income\"]).to_csv(\"ols_results.csv\")\n",
        "\n",
        "# Run this to see that at lower avg_house_incomes, we see greater RMSE!\n",
        "\n",
        "lmm_results=rmse_by_nb_lmm.groupby(by=[\"veh\", \"nb\"]).mean().reset_index()\n",
        "lmm_results=pd.merge(left=lmm_results, right=neighbourhoods,\n",
        "                     left_on = \"nb\", right_on = \"neighbourhood\",\n",
        "                     how=\"left\").dropna()\n",
        "lmm_results.sort_values(by=[\"veh\", \"avg_house_income\"])\n",
        "\n",
        "lmm_results.sort_values(by=[\"veh\", \"avg_house_income\"]).to_csv(\"lmm_results.csv\")\n"
      ],
      "execution_count": 11,
      "outputs": [
        {
          "output_type": "display_data",
          "data": {
            "text/html": [
              "\n",
              "     <input type=\"file\" id=\"files-d40f2e49-8e3e-48f4-9a12-787437140b5a\" name=\"files[]\" multiple disabled\n",
              "        style=\"border:none\" />\n",
              "     <output id=\"result-d40f2e49-8e3e-48f4-9a12-787437140b5a\">\n",
              "      Upload widget is only available when the cell has been executed in the\n",
              "      current browser session. Please rerun this cell to enable.\n",
              "      </output>\n",
              "      <script src=\"/nbextensions/google.colab/files.js\"></script> "
            ],
            "text/plain": [
              "<IPython.core.display.HTML object>"
            ]
          },
          "metadata": {}
        },
        {
          "output_type": "stream",
          "name": "stderr",
          "text": [
            "/usr/local/lib/python3.7/dist-packages/ipykernel_launcher.py:7: SettingWithCopyWarning: \n",
            "A value is trying to be set on a copy of a slice from a DataFrame.\n",
            "Try using .loc[row_indexer,col_indexer] = value instead\n",
            "\n",
            "See the caveats in the documentation: https://pandas.pydata.org/pandas-docs/stable/user_guide/indexing.html#returning-a-view-versus-a-copy\n",
            "  import sys\n"
          ]
        },
        {
          "output_type": "stream",
          "name": "stdout",
          "text": [
            "                     Mixed Linear Model Regression Results\n",
            "================================================================================\n",
            "Model:                    MixedLM        Dependent Variable:        bc_adj_price\n",
            "No. Observations:         247915         Method:                    REML        \n",
            "No. Groups:               6              Scale:                     0.0026      \n",
            "Min. group size:          41317          Likelihood:                384643.5574 \n",
            "Max. group size:          41320          Converged:                 Yes         \n",
            "Mean group size:          41319.2                                               \n",
            "--------------------------------------------------------------------------------\n",
            "                                     Coef.  Std.Err.    z    P>|z| [0.025 0.975]\n",
            "--------------------------------------------------------------------------------\n",
            "Intercept                             1.490    0.051  29.144 0.000  1.390  1.590\n",
            "C(source)[T.Beacon Hill]              0.003    0.001   5.207 0.000  0.002  0.004\n",
            "C(source)[T.Boston University]       -0.008    0.001 -15.479 0.000 -0.009 -0.007\n",
            "C(source)[T.Fenway]                  -0.001    0.001  -2.810 0.005 -0.002 -0.000\n",
            "C(source)[T.Financial District]      -0.014    0.001 -26.945 0.000 -0.015 -0.013\n",
            "C(source)[T.Haymarket Square]         0.003    0.001   6.176 0.000  0.002  0.004\n",
            "C(source)[T.North End]                0.013    0.001  26.303 0.000  0.012  0.014\n",
            "C(source)[T.North Station]           -0.000    0.001  -0.727 0.467 -0.001  0.001\n",
            "C(source)[T.Northeastern University] -0.006    0.001 -12.098 0.000 -0.007 -0.005\n",
            "C(source)[T.South Station]            0.002    0.001   4.118 0.000  0.001  0.003\n",
            "C(source)[T.Theatre District]         0.011    0.001  21.717 0.000  0.010  0.012\n",
            "C(source)[T.West End]                 0.002    0.001   3.809 0.000  0.001  0.003\n",
            "distance                              0.055    0.000 552.894 0.000  0.055  0.055\n",
            "vehicle_type Var                      0.016    0.117                            \n",
            "================================================================================\n",
            "\n",
            "                            OLS Regression Results                            \n",
            "==============================================================================\n",
            "Dep. Variable:              adj_price   R-squared:                       0.112\n",
            "Model:                            OLS   Adj. R-squared:                  0.112\n",
            "Method:                 Least Squares   F-statistic:                 3.138e+04\n",
            "Date:                Tue, 14 Dec 2021   Prob (F-statistic):               0.00\n",
            "Time:                        04:52:48   Log-Likelihood:            -8.6931e+05\n",
            "No. Observations:              247915   AIC:                         1.739e+06\n",
            "Df Residuals:                  247913   BIC:                         1.739e+06\n",
            "Df Model:                           1                                         \n",
            "Covariance Type:            nonrobust                                         \n",
            "==============================================================================\n",
            "                 coef    std err          t      P>|t|      [0.025      0.975]\n",
            "------------------------------------------------------------------------------\n",
            "Intercept     10.4617      0.034    306.005      0.000      10.395      10.529\n",
            "distance       2.4346      0.014    177.131      0.000       2.408       2.462\n",
            "==============================================================================\n",
            "Omnibus:                    24389.982   Durbin-Watson:                   0.164\n",
            "Prob(Omnibus):                  0.000   Jarque-Bera (JB):            32019.404\n",
            "Skew:                           0.874   Prob(JB):                         0.00\n",
            "Kurtosis:                       2.797   Cond. No.                         5.93\n",
            "==============================================================================\n",
            "\n",
            "Warnings:\n",
            "[1] Standard Errors assume that the covariance matrix of the errors is correctly specified.\n"
          ]
        }
      ]
    },
    {
      "cell_type": "code",
      "metadata": {
        "id": "oF9wGQCCAH4T",
        "colab": {
          "base_uri": "https://localhost:8080/",
          "height": 86
        },
        "outputId": "941e27a0-74a3-4e3f-a6d4-a57035c259f2"
      },
      "source": [
        "# Results\n",
        "\n",
        "\n",
        "\n",
        "# Model summaries\n",
        "fixed_eff=pd.DataFrame(mdf_lmm.params.rename(index=\"value\"))\n",
        "rand_eff=pd.DataFrame(mdf_lmm.random_effects).T.rename(columns={\"vehicle_type\": \"value\"})\n",
        "\n",
        "pd.concat([fixed_eff, rand_eff]).to_csv(\"lmm_effects.csv\")\n",
        "\n",
        "\n",
        "mdf_ols.params # Not very useful\n",
        "pd.DataFrame(mdf_ols.params).to_csv(\"ols_effects.csv\")\n",
        "\n",
        "# Price discrimination - model mean prediction and rmse\n",
        "\n",
        "train_lamb_LMM\n",
        "lmm_results.sort_values(by=[\"veh\", \"avg_house_income\"]).to_csv(\"lmm_results.csv\")\n",
        "ols_results.sort_values(by=[\"veh\", \"avg_house_income\"]).to_csv(\"ols_results.csv\")\n",
        "\n",
        "!ls\n",
        "\n",
        "files.download(\"ols_results.csv\")\n",
        "files.download(\"lmm_results.csv\")"
      ],
      "execution_count": 12,
      "outputs": [
        {
          "output_type": "stream",
          "name": "stdout",
          "text": [
            "clean_data.csv\t lmm_results.csv    ols_effects.csv  sample_data\n",
            "lmm_effects.csv  neighborhoods.csv  ols_results.csv\n"
          ]
        },
        {
          "output_type": "display_data",
          "data": {
            "application/javascript": [
              "\n",
              "    async function download(id, filename, size) {\n",
              "      if (!google.colab.kernel.accessAllowed) {\n",
              "        return;\n",
              "      }\n",
              "      const div = document.createElement('div');\n",
              "      const label = document.createElement('label');\n",
              "      label.textContent = `Downloading \"${filename}\": `;\n",
              "      div.appendChild(label);\n",
              "      const progress = document.createElement('progress');\n",
              "      progress.max = size;\n",
              "      div.appendChild(progress);\n",
              "      document.body.appendChild(div);\n",
              "\n",
              "      const buffers = [];\n",
              "      let downloaded = 0;\n",
              "\n",
              "      const channel = await google.colab.kernel.comms.open(id);\n",
              "      // Send a message to notify the kernel that we're ready.\n",
              "      channel.send({})\n",
              "\n",
              "      for await (const message of channel.messages) {\n",
              "        // Send a message to notify the kernel that we're ready.\n",
              "        channel.send({})\n",
              "        if (message.buffers) {\n",
              "          for (const buffer of message.buffers) {\n",
              "            buffers.push(buffer);\n",
              "            downloaded += buffer.byteLength;\n",
              "            progress.value = downloaded;\n",
              "          }\n",
              "        }\n",
              "      }\n",
              "      const blob = new Blob(buffers, {type: 'application/binary'});\n",
              "      const a = document.createElement('a');\n",
              "      a.href = window.URL.createObjectURL(blob);\n",
              "      a.download = filename;\n",
              "      div.appendChild(a);\n",
              "      a.click();\n",
              "      div.remove();\n",
              "    }\n",
              "  "
            ],
            "text/plain": [
              "<IPython.core.display.Javascript object>"
            ]
          },
          "metadata": {}
        },
        {
          "output_type": "display_data",
          "data": {
            "application/javascript": [
              "download(\"download_cac0d08c-717a-4934-93fd-a8ee7a5b25e1\", \"ols_results.csv\", 5398)"
            ],
            "text/plain": [
              "<IPython.core.display.Javascript object>"
            ]
          },
          "metadata": {}
        },
        {
          "output_type": "display_data",
          "data": {
            "application/javascript": [
              "\n",
              "    async function download(id, filename, size) {\n",
              "      if (!google.colab.kernel.accessAllowed) {\n",
              "        return;\n",
              "      }\n",
              "      const div = document.createElement('div');\n",
              "      const label = document.createElement('label');\n",
              "      label.textContent = `Downloading \"${filename}\": `;\n",
              "      div.appendChild(label);\n",
              "      const progress = document.createElement('progress');\n",
              "      progress.max = size;\n",
              "      div.appendChild(progress);\n",
              "      document.body.appendChild(div);\n",
              "\n",
              "      const buffers = [];\n",
              "      let downloaded = 0;\n",
              "\n",
              "      const channel = await google.colab.kernel.comms.open(id);\n",
              "      // Send a message to notify the kernel that we're ready.\n",
              "      channel.send({})\n",
              "\n",
              "      for await (const message of channel.messages) {\n",
              "        // Send a message to notify the kernel that we're ready.\n",
              "        channel.send({})\n",
              "        if (message.buffers) {\n",
              "          for (const buffer of message.buffers) {\n",
              "            buffers.push(buffer);\n",
              "            downloaded += buffer.byteLength;\n",
              "            progress.value = downloaded;\n",
              "          }\n",
              "        }\n",
              "      }\n",
              "      const blob = new Blob(buffers, {type: 'application/binary'});\n",
              "      const a = document.createElement('a');\n",
              "      a.href = window.URL.createObjectURL(blob);\n",
              "      a.download = filename;\n",
              "      div.appendChild(a);\n",
              "      a.click();\n",
              "      div.remove();\n",
              "    }\n",
              "  "
            ],
            "text/plain": [
              "<IPython.core.display.Javascript object>"
            ]
          },
          "metadata": {}
        },
        {
          "output_type": "display_data",
          "data": {
            "application/javascript": [
              "download(\"download_648ce771-6380-41ff-b776-d18bd5096ffa\", \"lmm_results.csv\", 5408)"
            ],
            "text/plain": [
              "<IPython.core.display.Javascript object>"
            ]
          },
          "metadata": {}
        }
      ]
    }
  ]
}